{
  "nbformat": 4,
  "nbformat_minor": 0,
  "metadata": {
    "colab": {
      "provenance": []
    },
    "kernelspec": {
      "name": "python3",
      "display_name": "Python 3"
    },
    "language_info": {
      "name": "python"
    }
  },
  "cells": [
    {
      "cell_type": "markdown",
      "source": [
        "**Coloque seu nome aqui: **"
      ],
      "metadata": {
        "id": "oncsAo0QKXM4"
      }
    },
    {
      "cell_type": "markdown",
      "source": [
        "1)Crie um programa em python que imprima números pares\n",
        "\n",
        "a) Pedir o usuário para digitar uma lista com mínimo 10 números\n",
        "\n",
        "b) Criar uma nova somente com numeros pares\n",
        "\n",
        "c) Imprimir números pares"
      ],
      "metadata": {
        "id": "2Wtw01VyHzBQ"
      }
    },
    {
      "cell_type": "code",
      "source": [],
      "metadata": {
        "id": "iBpbyKp8KNKX"
      },
      "execution_count": null,
      "outputs": []
    },
    {
      "cell_type": "markdown",
      "source": [
        "2)Crie um programa que conte quantas vezes cada palavra aparece em uma frase.\n",
        "\n",
        "Pedir ao usuário para digitar uma frase. Imprimir a palavra e quantas vezes ela aparece"
      ],
      "metadata": {
        "id": "bBYPSr8JHpUA"
      }
    },
    {
      "cell_type": "code",
      "source": [],
      "metadata": {
        "id": "dQLlv-lPKPT4"
      },
      "execution_count": null,
      "outputs": []
    },
    {
      "cell_type": "markdown",
      "source": [
        "3)Crie um programa em Python para avaliar um desfile de candidatas. O programa deve:\n",
        "\n",
        "a) Perguntar quantas candidatas vão participar.\n",
        "\n",
        "b) Perguntar o nome de cada candidata.\n",
        "\n",
        "c) Para cada candidata, receber 3 notas (uma de cada jurado).\n",
        "\n",
        "d) Somar as notas e guardar o total em um dicionário, onde a chave é o nome da candidata e o valor é a soma das notas.\n",
        "\n",
        "Mostrar ao final:\n",
        "\n",
        "a) A pontuação total de cada candidata.\n",
        "\n",
        "b) O nome da vencedora (a que tiver a maior pontuação)."
      ],
      "metadata": {
        "id": "bbWz0aL2HjP3"
      }
    },
    {
      "cell_type": "code",
      "execution_count": null,
      "metadata": {
        "id": "wrhGujbvHebJ"
      },
      "outputs": [],
      "source": []
    }
  ]
}