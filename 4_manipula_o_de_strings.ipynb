{
  "nbformat": 4,
  "nbformat_minor": 0,
  "metadata": {
    "anaconda-cloud": {},
    "kernelspec": {
      "display_name": "Python 3",
      "language": "python",
      "name": "python3"
    },
    "language_info": {
      "codemirror_mode": {
        "name": "ipython",
        "version": 3
      },
      "file_extension": ".py",
      "mimetype": "text/x-python",
      "name": "python",
      "nbconvert_exporter": "python",
      "pygments_lexer": "ipython3",
      "version": "3.8.5"
    },
    "colab": {
      "provenance": [],
      "include_colab_link": true
    }
  },
  "cells": [
    {
      "cell_type": "markdown",
      "metadata": {
        "id": "view-in-github",
        "colab_type": "text"
      },
      "source": [
        "<a href=\"https://colab.research.google.com/github/Marciobarrosetec/Aula_PA/blob/main/4_manipula_o_de_strings.ipynb\" target=\"_parent\"><img src=\"https://colab.research.google.com/assets/colab-badge.svg\" alt=\"Open In Colab\"/></a>"
      ]
    },
    {
      "cell_type": "markdown",
      "metadata": {
        "id": "dNXwjNNBmJTv"
      },
      "source": [
        "# <font color='blue'>Manipulação de Strings</font>\n",
        "\n"
      ]
    },
    {
      "cell_type": "markdown",
      "metadata": {
        "id": "Bmzfk0ZkmJT7"
      },
      "source": [
        "## Strings"
      ]
    },
    {
      "cell_type": "markdown",
      "metadata": {
        "id": "bU84UuLMmJT9"
      },
      "source": [
        "### Criando uma String\n",
        "Para criar uma string em Python você pode usar aspas simples ou duplas. Por exemplo:"
      ]
    },
    {
      "cell_type": "code",
      "metadata": {
        "id": "4rB5fxOEmJT_",
        "colab": {
          "base_uri": "https://localhost:8080/",
          "height": 35
        },
        "outputId": "208d7310-29fb-456e-fabc-c7ff54096228"
      },
      "source": [
        "# Uma única palavra\n",
        "'Oi'"
      ],
      "execution_count": null,
      "outputs": [
        {
          "output_type": "execute_result",
          "data": {
            "text/plain": [
              "'Oi'"
            ],
            "application/vnd.google.colaboratory.intrinsic+json": {
              "type": "string"
            }
          },
          "metadata": {},
          "execution_count": 1
        }
      ]
    },
    {
      "cell_type": "code",
      "metadata": {
        "id": "j_2YUcQKmJUE",
        "colab": {
          "base_uri": "https://localhost:8080/",
          "height": 35
        },
        "outputId": "853aadf3-c4c0-428f-f2aa-b8ea8a563aaf"
      },
      "source": [
        "# Uma frase\n",
        "'Criando uma string em Python'"
      ],
      "execution_count": null,
      "outputs": [
        {
          "output_type": "execute_result",
          "data": {
            "text/plain": [
              "'Criando uma string em Python'"
            ],
            "application/vnd.google.colaboratory.intrinsic+json": {
              "type": "string"
            }
          },
          "metadata": {},
          "execution_count": 2
        }
      ]
    },
    {
      "cell_type": "code",
      "metadata": {
        "id": "fS-AgwiemJUG",
        "colab": {
          "base_uri": "https://localhost:8080/",
          "height": 35
        },
        "outputId": "79052271-e722-4724-b161-bbc64bf22b89"
      },
      "source": [
        "# Podemos usar aspas duplas\n",
        "\"Podemos usar aspas duplas ou simples para strings em Python\""
      ],
      "execution_count": null,
      "outputs": [
        {
          "output_type": "execute_result",
          "data": {
            "text/plain": [
              "'Podemos usar aspas duplas ou simples para strings em Python'"
            ],
            "application/vnd.google.colaboratory.intrinsic+json": {
              "type": "string"
            }
          },
          "metadata": {},
          "execution_count": 3
        }
      ]
    },
    {
      "cell_type": "code",
      "metadata": {
        "id": "7TFfjuRxmJUH",
        "colab": {
          "base_uri": "https://localhost:8080/",
          "height": 35
        },
        "outputId": "0ced4e7b-e6b9-4cde-bc14-683ad8c849a5"
      },
      "source": [
        "# Você pode combinar aspas duplas e simples\n",
        "\"Testando strings em 'Python'\""
      ],
      "execution_count": null,
      "outputs": [
        {
          "output_type": "execute_result",
          "data": {
            "text/plain": [
              "\"Testando strings em 'Python'\""
            ],
            "application/vnd.google.colaboratory.intrinsic+json": {
              "type": "string"
            }
          },
          "metadata": {},
          "execution_count": 4
        }
      ]
    },
    {
      "cell_type": "markdown",
      "metadata": {
        "id": "KWuD6mE_mJUK"
      },
      "source": [
        "### Imprimindo uma String"
      ]
    },
    {
      "cell_type": "code",
      "metadata": {
        "id": "PL8v8VT8mJUL",
        "colab": {
          "base_uri": "https://localhost:8080/"
        },
        "outputId": "f533c9d1-1b63-4d86-ccff-85826db4571a"
      },
      "source": [
        "print ('Testando Strings em Python')"
      ],
      "execution_count": null,
      "outputs": [
        {
          "output_type": "stream",
          "name": "stdout",
          "text": [
            "Testando Strings em Python\n"
          ]
        }
      ]
    },
    {
      "cell_type": "code",
      "metadata": {
        "id": "RplK9VzUmJUN",
        "colab": {
          "base_uri": "https://localhost:8080/"
        },
        "outputId": "90b43043-b65d-414f-d6e0-06808dc9c7a1"
      },
      "source": [
        "print ('Testando \\nStrings \\nem \\nPython')"
      ],
      "execution_count": null,
      "outputs": [
        {
          "output_type": "stream",
          "name": "stdout",
          "text": [
            "Testando \n",
            "Strings \n",
            "em \n",
            "Python\n"
          ]
        }
      ]
    },
    {
      "cell_type": "code",
      "metadata": {
        "id": "42sCGaV0mJUP",
        "colab": {
          "base_uri": "https://localhost:8080/"
        },
        "outputId": "f57292a2-b161-4b17-fbfa-51fbe1e47bf4"
      },
      "source": [
        "print ('\\n')"
      ],
      "execution_count": null,
      "outputs": [
        {
          "output_type": "stream",
          "name": "stdout",
          "text": [
            "\n",
            "\n"
          ]
        }
      ]
    },
    {
      "cell_type": "markdown",
      "source": [
        "### Strings de várias linhas"
      ],
      "metadata": {
        "id": "GFN2ZBOFsanf"
      }
    },
    {
      "cell_type": "code",
      "source": [
        "a = '''Lorem ipsum dolor sit amet,\n",
        "consectetur adipiscing elit,\n",
        "sed do eiusmod tempor incididunt\n",
        "ut labore et dolore magna aliqua.'''\n",
        "print(a)"
      ],
      "metadata": {
        "id": "sYNY_DQpsuYx",
        "colab": {
          "base_uri": "https://localhost:8080/"
        },
        "outputId": "c16b05f8-8fb5-4d90-eb50-0b21b940bdfc"
      },
      "execution_count": null,
      "outputs": [
        {
          "output_type": "stream",
          "name": "stdout",
          "text": [
            "Lorem ipsum dolor sit amet,\n",
            "consectetur adipiscing elit,\n",
            "sed do eiusmod tempor incididunt\n",
            "ut labore et dolore magna aliqua.\n"
          ]
        }
      ]
    },
    {
      "cell_type": "markdown",
      "metadata": {
        "id": "KmOWhBzkmJUQ"
      },
      "source": [
        "### Indexando Strings"
      ]
    },
    {
      "cell_type": "code",
      "metadata": {
        "id": "xBKueDbSmJUT"
      },
      "source": [
        "# Atribuindo uma string\n",
        "s = 'Etec MCM'"
      ],
      "execution_count": null,
      "outputs": []
    },
    {
      "cell_type": "code",
      "metadata": {
        "id": "3FFA2P3smJUU",
        "colab": {
          "base_uri": "https://localhost:8080/"
        },
        "outputId": "08a507b2-d6c5-42db-b85f-5ac8224d09d0"
      },
      "source": [
        "print(s)"
      ],
      "execution_count": null,
      "outputs": [
        {
          "output_type": "stream",
          "name": "stdout",
          "text": [
            "Etec MCM\n"
          ]
        }
      ]
    },
    {
      "cell_type": "code",
      "metadata": {
        "id": "1-3429BAmJUV",
        "colab": {
          "base_uri": "https://localhost:8080/",
          "height": 35
        },
        "outputId": "0ea26816-fb50-4045-8747-faaf1886b5e0"
      },
      "source": [
        "# Primeiro elemento da string.\n",
        "s[0]"
      ],
      "execution_count": null,
      "outputs": [
        {
          "output_type": "execute_result",
          "data": {
            "text/plain": [
              "'E'"
            ],
            "application/vnd.google.colaboratory.intrinsic+json": {
              "type": "string"
            }
          },
          "metadata": {},
          "execution_count": 11
        }
      ]
    },
    {
      "cell_type": "code",
      "metadata": {
        "id": "b3WVVN7RmJUX",
        "colab": {
          "base_uri": "https://localhost:8080/",
          "height": 35
        },
        "outputId": "d76b3d83-38ba-4cf4-888a-b2f128c149bb"
      },
      "source": [
        "s[1]"
      ],
      "execution_count": null,
      "outputs": [
        {
          "output_type": "execute_result",
          "data": {
            "text/plain": [
              "'t'"
            ],
            "application/vnd.google.colaboratory.intrinsic+json": {
              "type": "string"
            }
          },
          "metadata": {},
          "execution_count": 12
        }
      ]
    },
    {
      "cell_type": "code",
      "metadata": {
        "id": "0B75NgxfmJUY",
        "colab": {
          "base_uri": "https://localhost:8080/",
          "height": 35
        },
        "outputId": "c181c83b-3bef-4977-98cf-18aa2789c9d3"
      },
      "source": [
        "s[2]"
      ],
      "execution_count": null,
      "outputs": [
        {
          "output_type": "execute_result",
          "data": {
            "text/plain": [
              "'e'"
            ],
            "application/vnd.google.colaboratory.intrinsic+json": {
              "type": "string"
            }
          },
          "metadata": {},
          "execution_count": 13
        }
      ]
    },
    {
      "cell_type": "code",
      "metadata": {
        "id": "08NxRkpRmJUZ",
        "colab": {
          "base_uri": "https://localhost:8080/",
          "height": 35
        },
        "outputId": "5d4c4ff1-24bb-4aab-85ce-f8a7b0d2bdfe"
      },
      "source": [
        "s[3]"
      ],
      "execution_count": null,
      "outputs": [
        {
          "output_type": "execute_result",
          "data": {
            "text/plain": [
              "'c'"
            ],
            "application/vnd.google.colaboratory.intrinsic+json": {
              "type": "string"
            }
          },
          "metadata": {},
          "execution_count": 14
        }
      ]
    },
    {
      "cell_type": "markdown",
      "metadata": {
        "id": "DmRrJJMimJUa"
      },
      "source": [
        "Podemos usar um : para executar um slicing que faz a leitura de tudo até um ponto designado. Por exemplo:"
      ]
    },
    {
      "cell_type": "code",
      "metadata": {
        "id": "SOKh__vmmJUb",
        "colab": {
          "base_uri": "https://localhost:8080/",
          "height": 35
        },
        "outputId": "7dab55e9-f223-4b3e-fea5-c46096c90f97"
      },
      "source": [
        "# Retorna todos os elementos da string, começando pela posição (lembre-se que Python começa a indexação pela posição 0),\n",
        "# até o fim da string.\n",
        "s[1:]"
      ],
      "execution_count": null,
      "outputs": [
        {
          "output_type": "execute_result",
          "data": {
            "text/plain": [
              "'tec MCM'"
            ],
            "application/vnd.google.colaboratory.intrinsic+json": {
              "type": "string"
            }
          },
          "metadata": {},
          "execution_count": 15
        }
      ]
    },
    {
      "cell_type": "code",
      "metadata": {
        "id": "EcN5KM0WmJUg",
        "colab": {
          "base_uri": "https://localhost:8080/",
          "height": 35
        },
        "outputId": "3d2f578c-4805-4978-81cd-487a2fb3f87f"
      },
      "source": [
        "# A string original permanece inalterada\n",
        "s"
      ],
      "execution_count": null,
      "outputs": [
        {
          "output_type": "execute_result",
          "data": {
            "text/plain": [
              "'Etec MCM'"
            ],
            "application/vnd.google.colaboratory.intrinsic+json": {
              "type": "string"
            }
          },
          "metadata": {},
          "execution_count": 16
        }
      ]
    },
    {
      "cell_type": "code",
      "metadata": {
        "id": "RxaG6OovmJUh",
        "colab": {
          "base_uri": "https://localhost:8080/",
          "height": 35
        },
        "outputId": "34aae3ba-b159-4a8e-e52b-d9bfc8a5474f"
      },
      "source": [
        "# Retorna tudo até a posição 4\n",
        "s[:6]"
      ],
      "execution_count": null,
      "outputs": [
        {
          "output_type": "execute_result",
          "data": {
            "text/plain": [
              "'Etec M'"
            ],
            "application/vnd.google.colaboratory.intrinsic+json": {
              "type": "string"
            }
          },
          "metadata": {},
          "execution_count": 18
        }
      ]
    },
    {
      "cell_type": "code",
      "metadata": {
        "id": "wvbbmTxTmJUi",
        "colab": {
          "base_uri": "https://localhost:8080/",
          "height": 35
        },
        "outputId": "2e72f81a-bb69-4b40-9094-5c9471d9f966"
      },
      "source": [
        "s[:]"
      ],
      "execution_count": null,
      "outputs": [
        {
          "output_type": "execute_result",
          "data": {
            "text/plain": [
              "'Etec MCM'"
            ],
            "application/vnd.google.colaboratory.intrinsic+json": {
              "type": "string"
            }
          },
          "metadata": {},
          "execution_count": 19
        }
      ]
    },
    {
      "cell_type": "code",
      "metadata": {
        "id": "YPbjgTujmJUl",
        "colab": {
          "base_uri": "https://localhost:8080/",
          "height": 35
        },
        "outputId": "470285f3-bcf0-41d1-b8e4-8a965e9f645f"
      },
      "source": [
        "# Nós também podemos usar a indexação negativa e ler de trás para frente.\n",
        "s[-3]"
      ],
      "execution_count": null,
      "outputs": [
        {
          "output_type": "execute_result",
          "data": {
            "text/plain": [
              "'M'"
            ],
            "application/vnd.google.colaboratory.intrinsic+json": {
              "type": "string"
            }
          },
          "metadata": {},
          "execution_count": 21
        }
      ]
    },
    {
      "cell_type": "code",
      "metadata": {
        "id": "nPe8EZEemJUm",
        "colab": {
          "base_uri": "https://localhost:8080/",
          "height": 35
        },
        "outputId": "accf575d-8d15-47b4-887d-eeca1d990896"
      },
      "source": [
        "# Retornar tudo, exceto a última letra\n",
        "s[:-1]"
      ],
      "execution_count": null,
      "outputs": [
        {
          "output_type": "execute_result",
          "data": {
            "text/plain": [
              "'Etec MC'"
            ],
            "application/vnd.google.colaboratory.intrinsic+json": {
              "type": "string"
            }
          },
          "metadata": {},
          "execution_count": 22
        }
      ]
    },
    {
      "cell_type": "markdown",
      "metadata": {
        "id": "DL__siqOmJUn"
      },
      "source": [
        "Nós também podemos usar a notação de índice e fatiar a string em pedaços específicos (o padrão é 1). Por exemplo, podemos usar dois pontos duas vezes em uma linha e, em seguida, um número que especifica a frequência para retornar elementos. Por exemplo:"
      ]
    },
    {
      "cell_type": "code",
      "metadata": {
        "id": "pLuph-8nmJUn",
        "colab": {
          "base_uri": "https://localhost:8080/",
          "height": 35
        },
        "outputId": "24e44d7b-41b8-4de4-a7ce-ebf8261e7234"
      },
      "source": [
        "s[::1]"
      ],
      "execution_count": null,
      "outputs": [
        {
          "output_type": "execute_result",
          "data": {
            "text/plain": [
              "'Etec MCM'"
            ],
            "application/vnd.google.colaboratory.intrinsic+json": {
              "type": "string"
            }
          },
          "metadata": {},
          "execution_count": 23
        }
      ]
    },
    {
      "cell_type": "code",
      "metadata": {
        "id": "NcrNl7q9mJUo",
        "colab": {
          "base_uri": "https://localhost:8080/",
          "height": 35
        },
        "outputId": "fdd343a9-c709-47be-a57d-18c3b8d10397"
      },
      "source": [
        "s[::2]"
      ],
      "execution_count": null,
      "outputs": [
        {
          "output_type": "execute_result",
          "data": {
            "text/plain": [
              "'Ee C'"
            ],
            "application/vnd.google.colaboratory.intrinsic+json": {
              "type": "string"
            }
          },
          "metadata": {},
          "execution_count": 24
        }
      ]
    },
    {
      "cell_type": "code",
      "metadata": {
        "id": "0kETnPcRmJUp",
        "colab": {
          "base_uri": "https://localhost:8080/",
          "height": 35
        },
        "outputId": "3f3294a7-5327-4310-c12c-7d8b0d0f7522"
      },
      "source": [
        "#reescreve a string de trás para frente\n",
        "s[::-1]"
      ],
      "execution_count": null,
      "outputs": [
        {
          "output_type": "execute_result",
          "data": {
            "text/plain": [
              "'MCM cetE'"
            ],
            "application/vnd.google.colaboratory.intrinsic+json": {
              "type": "string"
            }
          },
          "metadata": {},
          "execution_count": 25
        }
      ]
    },
    {
      "cell_type": "markdown",
      "metadata": {
        "id": "rX1TnHPBmJUq"
      },
      "source": [
        "### Propriedades de Strings"
      ]
    },
    {
      "cell_type": "code",
      "metadata": {
        "id": "LbobGCURmJUq",
        "colab": {
          "base_uri": "https://localhost:8080/",
          "height": 35
        },
        "outputId": "88fbd575-6071-4970-9097-57622961de2f"
      },
      "source": [
        "s"
      ],
      "execution_count": null,
      "outputs": [
        {
          "output_type": "execute_result",
          "data": {
            "text/plain": [
              "'Etec MCM'"
            ],
            "application/vnd.google.colaboratory.intrinsic+json": {
              "type": "string"
            }
          },
          "metadata": {},
          "execution_count": 26
        }
      ]
    },
    {
      "cell_type": "code",
      "source": [
        "# Alterando um caracter\n",
        "texto = \"Etez\"\n",
        "texto"
      ],
      "metadata": {
        "id": "qotbAztbpaMY",
        "colab": {
          "base_uri": "https://localhost:8080/",
          "height": 35
        },
        "outputId": "ad7c69e0-9cbe-442e-9218-9862746a2662"
      },
      "execution_count": null,
      "outputs": [
        {
          "output_type": "execute_result",
          "data": {
            "text/plain": [
              "'Etez'"
            ],
            "application/vnd.google.colaboratory.intrinsic+json": {
              "type": "string"
            }
          },
          "metadata": {},
          "execution_count": 27
        }
      ]
    },
    {
      "cell_type": "code",
      "source": [
        "abc = list(texto)\n",
        "abc[3] = 'c'\n",
        "abc"
      ],
      "metadata": {
        "id": "UGI8CuR1pxxF",
        "colab": {
          "base_uri": "https://localhost:8080/"
        },
        "outputId": "92fb62cc-2045-4f25-c55d-046b6bdadc0c"
      },
      "execution_count": null,
      "outputs": [
        {
          "output_type": "execute_result",
          "data": {
            "text/plain": [
              "['E', 't', 'e', 'c']"
            ]
          },
          "metadata": {},
          "execution_count": 28
        }
      ]
    },
    {
      "cell_type": "code",
      "source": [
        "texto = \"\".join(abc)\n",
        "print(texto)"
      ],
      "metadata": {
        "id": "1-JVrGsE1kiY",
        "colab": {
          "base_uri": "https://localhost:8080/"
        },
        "outputId": "3cdc59ea-834b-45a3-b816-21fa65ebc2f2"
      },
      "execution_count": null,
      "outputs": [
        {
          "output_type": "stream",
          "name": "stdout",
          "text": [
            "Etec\n"
          ]
        }
      ]
    },
    {
      "cell_type": "code",
      "metadata": {
        "id": "e1XE6r-PmJUr",
        "colab": {
          "base_uri": "https://localhost:8080/",
          "height": 35
        },
        "outputId": "533c7e99-2d51-4484-c41d-262f3c91b0cd"
      },
      "source": [
        "# Concatenando strings\n",
        "s + ' é a melhor escola de Ribeirão Pires!'"
      ],
      "execution_count": null,
      "outputs": [
        {
          "output_type": "execute_result",
          "data": {
            "text/plain": [
              "'Etec MCM é a melhor escola de Ribeirão Pires!'"
            ],
            "application/vnd.google.colaboratory.intrinsic+json": {
              "type": "string"
            }
          },
          "metadata": {},
          "execution_count": 30
        }
      ]
    },
    {
      "cell_type": "code",
      "metadata": {
        "id": "h0-H4CimmJUs",
        "colab": {
          "base_uri": "https://localhost:8080/",
          "height": 35
        },
        "outputId": "51df33a0-dbeb-4723-e96a-82dd803a9f36"
      },
      "source": [
        "s"
      ],
      "execution_count": null,
      "outputs": [
        {
          "output_type": "execute_result",
          "data": {
            "text/plain": [
              "'Etec MCM'"
            ],
            "application/vnd.google.colaboratory.intrinsic+json": {
              "type": "string"
            }
          },
          "metadata": {},
          "execution_count": 31
        }
      ]
    },
    {
      "cell_type": "code",
      "metadata": {
        "id": "rUn6rMQ6mJUt"
      },
      "source": [
        "s = s + ' é a melhor escola de Ribeirão Pires!'"
      ],
      "execution_count": null,
      "outputs": []
    },
    {
      "cell_type": "code",
      "metadata": {
        "id": "Wo0TIZAzmJUu",
        "colab": {
          "base_uri": "https://localhost:8080/"
        },
        "outputId": "2a76fc53-013f-4c40-f642-4dd842eeeb0d"
      },
      "source": [
        "print(s)"
      ],
      "execution_count": null,
      "outputs": [
        {
          "output_type": "stream",
          "name": "stdout",
          "text": [
            "Etec MCM é a melhor escola de Ribeirão Pires! é a melhor escola de Ribeirão Pires! é a melhor escola de Ribeirão Pires! é a melhor escola de Ribeirão Pires! é a melhor escola de Ribeirão Pires!\n"
          ]
        }
      ]
    },
    {
      "cell_type": "code",
      "metadata": {
        "id": "Dh537awnmJUv"
      },
      "source": [
        "# Podemos usar o símbolo de multiplicação para criar repetição!\n",
        "letra = 'w'"
      ],
      "execution_count": null,
      "outputs": []
    },
    {
      "cell_type": "code",
      "metadata": {
        "id": "03qSLdyAmJUv",
        "colab": {
          "base_uri": "https://localhost:8080/",
          "height": 35
        },
        "outputId": "f039a165-4913-47b1-8f8d-f559bab4fb5f"
      },
      "source": [
        "letra * 3"
      ],
      "execution_count": null,
      "outputs": [
        {
          "output_type": "execute_result",
          "data": {
            "text/plain": [
              "'www'"
            ],
            "application/vnd.google.colaboratory.intrinsic+json": {
              "type": "string"
            }
          },
          "metadata": {},
          "execution_count": 40
        }
      ]
    },
    {
      "cell_type": "markdown",
      "source": [
        "Fazendo um loop em uma string"
      ],
      "metadata": {
        "id": "_DiSse6XtBKq"
      }
    },
    {
      "cell_type": "code",
      "source": [
        "for x in \"banana\":\n",
        "  print(x)"
      ],
      "metadata": {
        "id": "Zn9dH70as8FA",
        "colab": {
          "base_uri": "https://localhost:8080/"
        },
        "outputId": "26fa2787-70f4-4cde-871c-e5a0ece61f05"
      },
      "execution_count": null,
      "outputs": [
        {
          "output_type": "stream",
          "name": "stdout",
          "text": [
            "b\n",
            "a\n",
            "n\n",
            "a\n",
            "n\n",
            "a\n"
          ]
        }
      ]
    },
    {
      "cell_type": "markdown",
      "source": [
        "Comprimento de uma String"
      ],
      "metadata": {
        "id": "07snPMyNtHwF"
      }
    },
    {
      "cell_type": "code",
      "source": [
        "a = \"Hello, World!\"\n",
        "print(len(a))"
      ],
      "metadata": {
        "id": "Sju3muqDtKUr",
        "colab": {
          "base_uri": "https://localhost:8080/"
        },
        "outputId": "b0eb4e01-d07a-44d9-8dd8-b2d363557d91"
      },
      "execution_count": null,
      "outputs": [
        {
          "output_type": "stream",
          "name": "stdout",
          "text": [
            "13\n"
          ]
        }
      ]
    },
    {
      "cell_type": "markdown",
      "metadata": {
        "id": "1aGg66C0mJUw"
      },
      "source": [
        "### Funções Built-in de Strings"
      ]
    },
    {
      "cell_type": "code",
      "metadata": {
        "id": "VEPCwANNmJUw",
        "colab": {
          "base_uri": "https://localhost:8080/",
          "height": 53
        },
        "outputId": "ac9aaac7-1826-4313-f780-122ae0361a75"
      },
      "source": [
        "s"
      ],
      "execution_count": null,
      "outputs": [
        {
          "output_type": "execute_result",
          "data": {
            "text/plain": [
              "'Etec MCM é a melhor escola de Ribeirão Pires! é a melhor escola de Ribeirão Pires! é a melhor escola de Ribeirão Pires! é a melhor escola de Ribeirão Pires! é a melhor escola de Ribeirão Pires! é a melhor escola de Ribeirão Pires!'"
            ],
            "application/vnd.google.colaboratory.intrinsic+json": {
              "type": "string"
            }
          },
          "metadata": {},
          "execution_count": 43
        }
      ]
    },
    {
      "cell_type": "code",
      "metadata": {
        "id": "Vjta7a8dmJUx",
        "colab": {
          "base_uri": "https://localhost:8080/",
          "height": 53
        },
        "outputId": "ae50fcb7-371a-4de1-b571-75aac7f133b8"
      },
      "source": [
        "# Upper Case\n",
        "s.upper()"
      ],
      "execution_count": null,
      "outputs": [
        {
          "output_type": "execute_result",
          "data": {
            "text/plain": [
              "'ETEC MCM É A MELHOR ESCOLA DE RIBEIRÃO PIRES! É A MELHOR ESCOLA DE RIBEIRÃO PIRES! É A MELHOR ESCOLA DE RIBEIRÃO PIRES! É A MELHOR ESCOLA DE RIBEIRÃO PIRES! É A MELHOR ESCOLA DE RIBEIRÃO PIRES! É A MELHOR ESCOLA DE RIBEIRÃO PIRES!'"
            ],
            "application/vnd.google.colaboratory.intrinsic+json": {
              "type": "string"
            }
          },
          "metadata": {},
          "execution_count": 44
        }
      ]
    },
    {
      "cell_type": "code",
      "metadata": {
        "id": "Ys2QUdWWmJUy",
        "colab": {
          "base_uri": "https://localhost:8080/",
          "height": 53
        },
        "outputId": "efd9c33d-eaf7-4fc9-d13a-a430740fe2a9"
      },
      "source": [
        "# Lower case\n",
        "s.lower()"
      ],
      "execution_count": null,
      "outputs": [
        {
          "output_type": "execute_result",
          "data": {
            "text/plain": [
              "'etec mcm é a melhor escola de ribeirão pires! é a melhor escola de ribeirão pires! é a melhor escola de ribeirão pires! é a melhor escola de ribeirão pires! é a melhor escola de ribeirão pires! é a melhor escola de ribeirão pires!'"
            ],
            "application/vnd.google.colaboratory.intrinsic+json": {
              "type": "string"
            }
          },
          "metadata": {},
          "execution_count": 45
        }
      ]
    },
    {
      "cell_type": "code",
      "metadata": {
        "id": "O_02hQ-gmJUy",
        "colab": {
          "base_uri": "https://localhost:8080/"
        },
        "outputId": "fe1e15fd-ca7c-474f-f3f5-3b3beec8ffb5"
      },
      "source": [
        "# Dividir uma string por espaços em branco (padrão)\n",
        "s.split()"
      ],
      "execution_count": null,
      "outputs": [
        {
          "output_type": "execute_result",
          "data": {
            "text/plain": [
              "['Etec',\n",
              " 'MCM',\n",
              " 'é',\n",
              " 'a',\n",
              " 'melhor',\n",
              " 'escola',\n",
              " 'de',\n",
              " 'Ribeirão',\n",
              " 'Pires!',\n",
              " 'é',\n",
              " 'a',\n",
              " 'melhor',\n",
              " 'escola',\n",
              " 'de',\n",
              " 'Ribeirão',\n",
              " 'Pires!',\n",
              " 'é',\n",
              " 'a',\n",
              " 'melhor',\n",
              " 'escola',\n",
              " 'de',\n",
              " 'Ribeirão',\n",
              " 'Pires!',\n",
              " 'é',\n",
              " 'a',\n",
              " 'melhor',\n",
              " 'escola',\n",
              " 'de',\n",
              " 'Ribeirão',\n",
              " 'Pires!',\n",
              " 'é',\n",
              " 'a',\n",
              " 'melhor',\n",
              " 'escola',\n",
              " 'de',\n",
              " 'Ribeirão',\n",
              " 'Pires!',\n",
              " 'é',\n",
              " 'a',\n",
              " 'melhor',\n",
              " 'escola',\n",
              " 'de',\n",
              " 'Ribeirão',\n",
              " 'Pires!']"
            ]
          },
          "metadata": {},
          "execution_count": 47
        }
      ]
    },
    {
      "cell_type": "code",
      "metadata": {
        "id": "uPGn3aFkmJU0",
        "colab": {
          "base_uri": "https://localhost:8080/"
        },
        "outputId": "1abf35c5-cc51-4950-bf68-9e24def6ed16"
      },
      "source": [
        "# Dividir uma string por um elemento específico\n",
        "s.split('é')"
      ],
      "execution_count": null,
      "outputs": [
        {
          "output_type": "execute_result",
          "data": {
            "text/plain": [
              "['Etec MCM ',\n",
              " ' a melhor escola de Ribeirão Pires! ',\n",
              " ' a melhor escola de Ribeirão Pires! ',\n",
              " ' a melhor escola de Ribeirão Pires! ',\n",
              " ' a melhor escola de Ribeirão Pires! ',\n",
              " ' a melhor escola de Ribeirão Pires! ',\n",
              " ' a melhor escola de Ribeirão Pires!']"
            ]
          },
          "metadata": {},
          "execution_count": 46
        }
      ]
    },
    {
      "cell_type": "markdown",
      "metadata": {
        "id": "n6_T7XjOmJU1"
      },
      "source": [
        "### Funções String"
      ]
    },
    {
      "cell_type": "code",
      "metadata": {
        "id": "vEQkj8uFmJU2"
      },
      "source": [
        "s = 'seja bem vindo ao universo de python'"
      ],
      "execution_count": null,
      "outputs": []
    },
    {
      "cell_type": "code",
      "metadata": {
        "id": "MgsSxjL9mJU2",
        "colab": {
          "base_uri": "https://localhost:8080/",
          "height": 35
        },
        "outputId": "18233328-cc8b-4ff9-f47e-05289599eebd"
      },
      "source": [
        "s.capitalize()"
      ],
      "execution_count": null,
      "outputs": [
        {
          "output_type": "execute_result",
          "data": {
            "text/plain": [
              "'Seja bem vindo ao universo de python'"
            ],
            "application/vnd.google.colaboratory.intrinsic+json": {
              "type": "string"
            }
          },
          "metadata": {},
          "execution_count": 49
        }
      ]
    },
    {
      "cell_type": "code",
      "metadata": {
        "id": "WDuICSVamJU3",
        "colab": {
          "base_uri": "https://localhost:8080/"
        },
        "outputId": "0fbf5724-ba17-4c8a-9d18-cc750b053921"
      },
      "source": [
        "s.count('n')"
      ],
      "execution_count": null,
      "outputs": [
        {
          "output_type": "execute_result",
          "data": {
            "text/plain": [
              "3"
            ]
          },
          "metadata": {},
          "execution_count": 50
        }
      ]
    },
    {
      "cell_type": "code",
      "metadata": {
        "id": "GhnWZV2NmJU4",
        "colab": {
          "base_uri": "https://localhost:8080/"
        },
        "outputId": "612c1bdc-f168-4a97-d225-93678a435652"
      },
      "source": [
        "s.find('n')"
      ],
      "execution_count": null,
      "outputs": [
        {
          "output_type": "execute_result",
          "data": {
            "text/plain": [
              "11"
            ]
          },
          "metadata": {},
          "execution_count": 52
        }
      ]
    },
    {
      "cell_type": "code",
      "metadata": {
        "id": "d1hkLfEqmJU4",
        "colab": {
          "base_uri": "https://localhost:8080/",
          "height": 35
        },
        "outputId": "0e2213ff-2f59-4093-9c37-06158876cf83"
      },
      "source": [
        "s.center(50, '-')"
      ],
      "execution_count": null,
      "outputs": [
        {
          "output_type": "execute_result",
          "data": {
            "text/plain": [
              "'-------seja bem vindo ao universo de python-------'"
            ],
            "application/vnd.google.colaboratory.intrinsic+json": {
              "type": "string"
            }
          },
          "metadata": {},
          "execution_count": 5
        }
      ]
    },
    {
      "cell_type": "code",
      "source": [
        "codigo = 'abc123'\n",
        "codigo"
      ],
      "metadata": {
        "id": "ASUCv523qUDn",
        "colab": {
          "base_uri": "https://localhost:8080/",
          "height": 35
        },
        "outputId": "bb7d8b00-9bc3-4038-a23a-75404c1697e3"
      },
      "execution_count": null,
      "outputs": [
        {
          "output_type": "execute_result",
          "data": {
            "text/plain": [
              "'abc123'"
            ],
            "application/vnd.google.colaboratory.intrinsic+json": {
              "type": "string"
            }
          },
          "metadata": {},
          "execution_count": 53
        }
      ]
    },
    {
      "cell_type": "code",
      "metadata": {
        "id": "Ty7YmZD1mJU5",
        "colab": {
          "base_uri": "https://localhost:8080/"
        },
        "outputId": "0a12e8ec-662d-4194-8de5-023325611c45"
      },
      "source": [
        "#Verifique se todos os caracteres do texto são alfanuméricos\n",
        "codigo.isalnum()"
      ],
      "execution_count": null,
      "outputs": [
        {
          "output_type": "execute_result",
          "data": {
            "text/plain": [
              "True"
            ]
          },
          "metadata": {},
          "execution_count": 54
        }
      ]
    },
    {
      "cell_type": "code",
      "metadata": {
        "id": "yinQ0geSmJU6",
        "colab": {
          "base_uri": "https://localhost:8080/"
        },
        "outputId": "b2ad0af2-b017-457c-a99c-5aedb91af6f9"
      },
      "source": [
        "# Verifique se todos os caracteres do texto são letras\n",
        "codigo.isalpha()"
      ],
      "execution_count": null,
      "outputs": [
        {
          "output_type": "execute_result",
          "data": {
            "text/plain": [
              "False"
            ]
          },
          "metadata": {},
          "execution_count": 55
        }
      ]
    },
    {
      "cell_type": "code",
      "metadata": {
        "id": "1Jkf4ft-mJU7",
        "colab": {
          "base_uri": "https://localhost:8080/"
        },
        "outputId": "55167cc0-2ec9-46f1-de73-d917fd38a918"
      },
      "source": [
        "# Verifique se todos os caracteres do texto estão em letras minúsculas\n",
        "codigo.islower()"
      ],
      "execution_count": null,
      "outputs": [
        {
          "output_type": "execute_result",
          "data": {
            "text/plain": [
              "True"
            ]
          },
          "metadata": {},
          "execution_count": 56
        }
      ]
    },
    {
      "cell_type": "code",
      "metadata": {
        "id": "weg0q6CSmJU-",
        "colab": {
          "base_uri": "https://localhost:8080/"
        },
        "outputId": "05246a4e-a5bb-4581-d737-c62eeaff08fd"
      },
      "source": [
        "# Verifique se todos os caracteres no texto são espaços em branco\n",
        "codigo.isspace()"
      ],
      "execution_count": null,
      "outputs": [
        {
          "output_type": "execute_result",
          "data": {
            "text/plain": [
              "False"
            ]
          },
          "metadata": {},
          "execution_count": 57
        }
      ]
    },
    {
      "cell_type": "code",
      "source": [
        "teste = \" a    \"\n",
        "teste.isspace()"
      ],
      "metadata": {
        "id": "ImSjSUT9rPMZ",
        "colab": {
          "base_uri": "https://localhost:8080/"
        },
        "outputId": "8e31a9d9-40f0-4898-e156-e32b66282055"
      },
      "execution_count": null,
      "outputs": [
        {
          "output_type": "execute_result",
          "data": {
            "text/plain": [
              "False"
            ]
          },
          "metadata": {},
          "execution_count": 59
        }
      ]
    },
    {
      "cell_type": "code",
      "metadata": {
        "id": "zpng7d-QmJU-",
        "colab": {
          "base_uri": "https://localhost:8080/"
        },
        "outputId": "6dfad8b4-c4d9-402f-d3f5-d790ebc703b6"
      },
      "source": [
        "# Verifique se a string termina com um sinal de pontuação (.)\n",
        "frase = \"Olá, desejo um ótimo curso para você\"\n",
        "frase.endswith('.')"
      ],
      "execution_count": null,
      "outputs": [
        {
          "output_type": "execute_result",
          "data": {
            "text/plain": [
              "False"
            ]
          },
          "metadata": {},
          "execution_count": 60
        }
      ]
    },
    {
      "cell_type": "code",
      "metadata": {
        "id": "dSsKI-WWmJU_",
        "colab": {
          "base_uri": "https://localhost:8080/"
        },
        "outputId": "9433ebf9-e3b7-4ecb-dfc7-a0057278b405"
      },
      "source": [
        "# Procure a palavra \"bananas\" e retorne uma tupla com três elementos:\n",
        "txt = \"Eu gosto de comer bananas todo dia\"\n",
        "x = txt.partition(\"bananas\")\n",
        "print(x)\n"
      ],
      "execution_count": null,
      "outputs": [
        {
          "output_type": "stream",
          "name": "stdout",
          "text": [
            "('Eu gosto de comer ', 'bananas', ' todo dia')\n"
          ]
        }
      ]
    },
    {
      "cell_type": "markdown",
      "metadata": {
        "id": "khN-snprmJVA"
      },
      "source": [
        "### Comparando Strings"
      ]
    },
    {
      "cell_type": "code",
      "metadata": {
        "id": "7LjfVEs5mJVB",
        "colab": {
          "base_uri": "https://localhost:8080/"
        },
        "outputId": "50005f54-76c1-4d51-9c65-5fa0cb4ca0c9"
      },
      "source": [
        "print(\"Python\" == \"R\")"
      ],
      "execution_count": null,
      "outputs": [
        {
          "output_type": "stream",
          "name": "stdout",
          "text": [
            "False\n"
          ]
        }
      ]
    },
    {
      "cell_type": "code",
      "metadata": {
        "id": "esOmAz0VmJVC",
        "colab": {
          "base_uri": "https://localhost:8080/"
        },
        "outputId": "03eb8944-3629-4f16-9fb9-3fe679634676"
      },
      "source": [
        "print(\"Python\" == \"Python\")"
      ],
      "execution_count": null,
      "outputs": [
        {
          "output_type": "stream",
          "name": "stdout",
          "text": [
            "True\n"
          ]
        }
      ]
    },
    {
      "cell_type": "code",
      "source": [
        "print(\"Python\" == \"python\")"
      ],
      "metadata": {
        "id": "PuxRm95EsFmE",
        "colab": {
          "base_uri": "https://localhost:8080/"
        },
        "outputId": "539929f2-a904-481b-b4c6-7e7561e0ebac"
      },
      "execution_count": null,
      "outputs": [
        {
          "output_type": "stream",
          "name": "stdout",
          "text": [
            "False\n"
          ]
        }
      ]
    },
    {
      "cell_type": "code",
      "source": [
        "print(\"Python\" != \"PYthon\")"
      ],
      "metadata": {
        "id": "HBjm_PRHsIT-",
        "colab": {
          "base_uri": "https://localhost:8080/"
        },
        "outputId": "d87b15ce-d691-4c4f-c602-60dc803b7360"
      },
      "execution_count": null,
      "outputs": [
        {
          "output_type": "stream",
          "name": "stdout",
          "text": [
            "True\n"
          ]
        }
      ]
    },
    {
      "cell_type": "markdown",
      "source": [
        "## Outros métodos para se trabalhar com Stings\n",
        "https://www.w3schools.com/python/python_strings_methods.asp"
      ],
      "metadata": {
        "id": "Sd25nC8ctm6I"
      }
    },
    {
      "cell_type": "markdown",
      "source": [
        "# EXERCÍCIOS"
      ],
      "metadata": {
        "id": "alyrqUJst2B7"
      }
    },
    {
      "cell_type": "code",
      "source": [
        "# 1 - Use o método len para imprimir o comprimento da string.\n",
        "x = \"Hello World\"\n",
        "print(    )"
      ],
      "metadata": {
        "id": "VaXue1uMuGtE"
      },
      "execution_count": null,
      "outputs": []
    },
    {
      "cell_type": "code",
      "source": [
        "# 2 - Obtenha o primeiro caractere da string txt.\n",
        "txt = \"Hello World\"\n",
        "x ="
      ],
      "metadata": {
        "id": "hE23s19XuT9V"
      },
      "execution_count": null,
      "outputs": []
    },
    {
      "cell_type": "code",
      "source": [
        "# 3 - Obtenha os caracteres do índice 2 ao índice 4 ( llo).\n",
        "txt = \"Hello World\"\n",
        "x ="
      ],
      "metadata": {
        "id": "u5G2G2Icuh_5"
      },
      "execution_count": null,
      "outputs": []
    },
    {
      "cell_type": "code",
      "source": [
        "# 4 - Converta o valor de txt para maiúsculas.\n",
        "txt = \"Hello World\"\n",
        "txt ="
      ],
      "metadata": {
        "id": "i_QREABlusUY"
      },
      "execution_count": null,
      "outputs": []
    },
    {
      "cell_type": "code",
      "source": [
        "# - Conte quantas vezes aparece a palavra \"de\" na string abaixo\n",
        "txt = \"Eu gosto de vijar, tomar vinho, de estudar estudar programação, de estudar Pyhon\""
      ],
      "metadata": {
        "id": "nVC1pSwq2PDH"
      },
      "execution_count": null,
      "outputs": []
    },
    {
      "cell_type": "code",
      "source": [
        "# - Separe a frase abaixo toda vez que encontrar um vírgula\n",
        "txt = \"Eu gosto de vijar, tomar vinho, de estudar estudar programação, de estudar Pyhon\""
      ],
      "metadata": {
        "id": "tkUBrdQH3OUR"
      },
      "execution_count": null,
      "outputs": []
    }
  ]
}